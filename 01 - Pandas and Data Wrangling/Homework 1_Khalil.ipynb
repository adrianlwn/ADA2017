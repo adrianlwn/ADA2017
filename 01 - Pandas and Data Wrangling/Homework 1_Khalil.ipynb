{
 "cells": [
  {
   "cell_type": "markdown",
   "metadata": {},
   "source": [
    "# Table of Contents\n",
    " <p><div class=\"lev1\"><a href=\"#Task-1.-Compiling-Ebola-Data\"><span class=\"toc-item-num\">Task 1.&nbsp;&nbsp;</span>Compiling Ebola Data</a></div>\n",
    " <div class=\"lev1\"><a href=\"#Task-2.-RNA-Sequences\"><span class=\"toc-item-num\">Task 2.&nbsp;&nbsp;</span>RNA Sequences</a></div>\n",
    " <div class=\"lev1\"><a href=\"#Task-3.-Class-War-in-Titanic\"><span class=\"toc-item-num\">Task 3.&nbsp;&nbsp;</span>Class War in Titanic</a></div></p>"
   ]
  },
  {
   "cell_type": "code",
   "execution_count": 49,
   "metadata": {},
   "outputs": [],
   "source": [
    "DATA_FOLDER = 'Data/ebola' # Use the data folder provided in Tutorial 02 - Intro to Pandas."
   ]
  },
  {
   "cell_type": "markdown",
   "metadata": {},
   "source": [
    "## Task 1. Compiling Ebola Data\n",
    "\n",
    "The `DATA_FOLDER/ebola` folder contains summarized reports of Ebola cases from three countries (Guinea, Liberia and Sierra Leone) during the recent outbreak of the disease in West Africa. For each country, there are daily reports that contain various information about the outbreak in several cities in each country.\n",
    "\n",
    "Use pandas to import these data files into a single `Dataframe`.\n",
    "Using this `DataFrame`, calculate for *each country*, the *daily average per month* of *new cases* and *deaths*.\n",
    "Make sure you handle all the different expressions for *new cases* and *deaths* that are used in the reports."
   ]
  },
  {
   "cell_type": "markdown",
   "metadata": {},
   "source": [
    "#### 1.1. Importing the Data\n",
    "\n",
    "We first import the relevant packages."
   ]
  },
  {
   "cell_type": "code",
   "execution_count": 258,
   "metadata": {},
   "outputs": [],
   "source": [
    "import glob\n",
    "import pandas as pd\n",
    "import numpy as np\n",
    "from datetime import datetime"
   ]
  },
  {
   "cell_type": "markdown",
   "metadata": {},
   "source": [
    "We then import the files of the three countries each in a `Dataframe`."
   ]
  },
  {
   "cell_type": "code",
   "execution_count": 259,
   "metadata": {},
   "outputs": [],
   "source": [
    "def import_data(country):\n",
    "    \"\"\"Returns Dataframe resulting from concatenation of files for given country\"\"\"\n",
    "    file_list = glob.glob('Data/ebola/{}_data/*.csv'.format(country))\n",
    "    return pd.concat([pd.read_csv(file_) for file_ in file_list])\n",
    "\n",
    "guinea = import_data(\"guinea\")\n",
    "liberia = import_data(\"liberia\")\n",
    "sl = import_data(\"sl\")"
   ]
  },
  {
   "cell_type": "markdown",
   "metadata": {},
   "source": [
    "#### 1.2. Finding Data Correspondences\n",
    "\n",
    "Reading the different dataframes, we see that there are five categories of interest if we want to get the daily average per month of **new** cases and deaths."
   ]
  },
  {
   "cell_type": "code",
   "execution_count": 260,
   "metadata": {
    "scrolled": true
   },
   "outputs": [],
   "source": [
    "CASES_SUSPECTS = \"New Cases: Suspects\"\n",
    "CASES_PROBABLES = \"New Cases: Probables\"\n",
    "CASES_CONFIRMED = \"New Cases: Confirmed\"\n",
    "CASES_TOTAL = \"New Cases: Total\"\n",
    "DEATHS_TOTAL = \"New Deaths: Total\""
   ]
  },
  {
   "cell_type": "markdown",
   "metadata": {},
   "source": [
    "Then, we can map the correspondences from the files to these categories in the following functions."
   ]
  },
  {
   "cell_type": "code",
   "execution_count": 261,
   "metadata": {},
   "outputs": [],
   "source": [
    "def label_guinea(description):\n",
    "    try:\n",
    "        return {\"New cases of suspects\": CASES_SUSPECTS,\n",
    "                \"New cases of probables\": CASES_PROBABLES,\n",
    "                \"New cases of confirmed\": CASES_CONFIRMED,\n",
    "                \"Total new cases registered so far\": CASES_TOTAL,\n",
    "                \"New deaths registered today\": DEATHS_TOTAL,\n",
    "                \"New deaths registered\": DEATHS_TOTAL}[description]\n",
    "    except:\n",
    "        return None\n",
    "\n",
    "def label_liberia(description):\n",
    "    try:\n",
    "        return {\"New Case/s (Suspected)\": CASES_SUSPECTS,\n",
    "                \"New Case/s (Probable)\": CASES_PROBABLES,\n",
    "                \"New case/s (confirmed)\": CASES_CONFIRMED,\n",
    "                \"Newly reported deaths\": DEATHS_TOTAL}[description]\n",
    "    except:\n",
    "        return None\n",
    "\n",
    "def label_sl(description):\n",
    "    try:\n",
    "        return {\"new_suspected\": CASES_SUSPECTS,\n",
    "                \"new_probable\": CASES_PROBABLES,\n",
    "                \"new_confirmed\": CASES_CONFIRMED,\n",
    "                \"etc_new_deaths\": DEATHS_TOTAL}[description]\n",
    "    except:\n",
    "        return None"
   ]
  },
  {
   "cell_type": "markdown",
   "metadata": {},
   "source": [
    "#### 1.3. Exploiting and Merging the Data\n",
    "\n",
    "We first establish a function that gives the `DataFrame` corresponding to each country's data summary: it contains the daily average per month and per year of new cases and deaths."
   ]
  },
  {
   "cell_type": "code",
   "execution_count": 272,
   "metadata": {},
   "outputs": [],
   "source": [
    "def get_summary_dataframe(data, country, number_column, text_column, date_column, label_function):\n",
    "    \"\"\"\n",
    "    Gives DataFrame containing the daily average per month and per year of the given country's new cases and deaths.\n",
    "    :param data: DataFrame containing the imported data from files\n",
    "    :param country: string, name of the country\n",
    "    :param number_column: string, name of the column containing the numbers to be averaged\n",
    "    :param text_column: string, name of the column containing the description of the numbers given\n",
    "    :param date_column: string, name of the column containing the date of the record\n",
    "    :param label_function: function, corresponding to function mapping files to data categories\n",
    "    :return: DataFrame\n",
    "    \"\"\"\n",
    "    df_copy = data.copy()\n",
    "    # Applying the mapping and filtering\n",
    "    df_copy[text_column] = df_copy[text_column].apply(label_function)\n",
    "    df_copy = df_copy[(df_copy[text_column].notnull())]\n",
    "    # Filtering the columns\n",
    "    df = df_copy[[text_column, number_column]]\n",
    "    # Making sure all of the data in the number column are interpreted as integers, with NaNs replaced by zero\n",
    "    df[number_column] = df[number_column].fillna(0).apply(int)\n",
    "    # Renaming the column corresponding to text_column\n",
    "    df[\"Daily Average\"] = df[text_column].rename(\"Daily Average\")\n",
    "    # Adding Country Column\n",
    "    df['Country'] = pd.Series([country] * len(df), index=df.index)\n",
    "    # Adding columns to split the Date\n",
    "    df['Year'] = pd.DatetimeIndex(df_copy[date_column]).year\n",
    "    df['Month'] = pd.DatetimeIndex(df_copy[date_column]).month\n",
    "    df['Day'] = pd.DatetimeIndex(df_copy[date_column]).day\n",
    "    # Reshaping the DataFrame\n",
    "    df = df.set_index([\"Daily Average\", \"Country\", 'Year', 'Month', 'Day'])[number_column].unstack(\"Daily Average\")\n",
    "    # Averaging\n",
    "    df = df.mean(level=[0,1,2])\n",
    "    return df"
   ]
  },
  {
   "cell_type": "markdown",
   "metadata": {},
   "source": [
    "By reading the columns of the `DataFrame` instances, we can establish the names of the columns of interest. Then, we use the function above to get the summary data frames and we concatenate them. The result is shown below."
   ]
  },
  {
   "cell_type": "code",
   "execution_count": 273,
   "metadata": {},
   "outputs": [
    {
     "data": {
      "text/html": [
       "<div>\n",
       "<table border=\"1\" class=\"dataframe\">\n",
       "  <thead>\n",
       "    <tr style=\"text-align: right;\">\n",
       "      <th></th>\n",
       "      <th></th>\n",
       "      <th></th>\n",
       "      <th>New Cases: Confirmed</th>\n",
       "      <th>New Cases: Probables</th>\n",
       "      <th>New Cases: Suspects</th>\n",
       "      <th>New Cases: Total</th>\n",
       "      <th>New Deaths: Total</th>\n",
       "    </tr>\n",
       "    <tr>\n",
       "      <th>Country</th>\n",
       "      <th>Year</th>\n",
       "      <th>Month</th>\n",
       "      <th></th>\n",
       "      <th></th>\n",
       "      <th></th>\n",
       "      <th></th>\n",
       "      <th></th>\n",
       "    </tr>\n",
       "  </thead>\n",
       "  <tbody>\n",
       "    <tr>\n",
       "      <th rowspan=\"3\" valign=\"top\">Guinea</th>\n",
       "      <th rowspan=\"3\" valign=\"top\">2014</th>\n",
       "      <th>8</th>\n",
       "      <td>12.400000</td>\n",
       "      <td>1.600000</td>\n",
       "      <td>11.800000</td>\n",
       "      <td>25.800</td>\n",
       "      <td>3.400000</td>\n",
       "    </tr>\n",
       "    <tr>\n",
       "      <th>9</th>\n",
       "      <td>13.000000</td>\n",
       "      <td>1.187500</td>\n",
       "      <td>5.437500</td>\n",
       "      <td>19.625</td>\n",
       "      <td>3.562500</td>\n",
       "    </tr>\n",
       "    <tr>\n",
       "      <th>10</th>\n",
       "      <td>6.000000</td>\n",
       "      <td>0.000000</td>\n",
       "      <td>28.000000</td>\n",
       "      <td>34.000</td>\n",
       "      <td>15.000000</td>\n",
       "    </tr>\n",
       "    <tr>\n",
       "      <th rowspan=\"7\" valign=\"top\">Liberia</th>\n",
       "      <th rowspan=\"7\" valign=\"top\">2014</th>\n",
       "      <th>6</th>\n",
       "      <td>2.142857</td>\n",
       "      <td>1.142857</td>\n",
       "      <td>2.428571</td>\n",
       "      <td>NaN</td>\n",
       "      <td>2.000000</td>\n",
       "    </tr>\n",
       "    <tr>\n",
       "      <th>7</th>\n",
       "      <td>1.818182</td>\n",
       "      <td>3.727273</td>\n",
       "      <td>3.000000</td>\n",
       "      <td>NaN</td>\n",
       "      <td>4.272727</td>\n",
       "    </tr>\n",
       "    <tr>\n",
       "      <th>8</th>\n",
       "      <td>5.444444</td>\n",
       "      <td>19.777778</td>\n",
       "      <td>12.000000</td>\n",
       "      <td>NaN</td>\n",
       "      <td>23.222222</td>\n",
       "    </tr>\n",
       "    <tr>\n",
       "      <th>9</th>\n",
       "      <td>6.166667</td>\n",
       "      <td>29.333333</td>\n",
       "      <td>28.333333</td>\n",
       "      <td>NaN</td>\n",
       "      <td>36.041667</td>\n",
       "    </tr>\n",
       "    <tr>\n",
       "      <th>10</th>\n",
       "      <td>1.360000</td>\n",
       "      <td>17.760000</td>\n",
       "      <td>26.440000</td>\n",
       "      <td>NaN</td>\n",
       "      <td>28.040000</td>\n",
       "    </tr>\n",
       "    <tr>\n",
       "      <th>11</th>\n",
       "      <td>2.600000</td>\n",
       "      <td>7.000000</td>\n",
       "      <td>16.866667</td>\n",
       "      <td>NaN</td>\n",
       "      <td>13.466667</td>\n",
       "    </tr>\n",
       "    <tr>\n",
       "      <th>12</th>\n",
       "      <td>1928.333333</td>\n",
       "      <td>1208.000000</td>\n",
       "      <td>2042.222222</td>\n",
       "      <td>NaN</td>\n",
       "      <td>0.000000</td>\n",
       "    </tr>\n",
       "    <tr>\n",
       "      <th rowspan=\"5\" valign=\"top\">Sierra Leone</th>\n",
       "      <th rowspan=\"5\" valign=\"top\">2014</th>\n",
       "      <th>8</th>\n",
       "      <td>18.550000</td>\n",
       "      <td>1.150000</td>\n",
       "      <td>5.450000</td>\n",
       "      <td>NaN</td>\n",
       "      <td>0.000000</td>\n",
       "    </tr>\n",
       "    <tr>\n",
       "      <th>9</th>\n",
       "      <td>34.413793</td>\n",
       "      <td>0.000000</td>\n",
       "      <td>6.275862</td>\n",
       "      <td>NaN</td>\n",
       "      <td>0.275862</td>\n",
       "    </tr>\n",
       "    <tr>\n",
       "      <th>10</th>\n",
       "      <td>56.714286</td>\n",
       "      <td>0.857143</td>\n",
       "      <td>13.357143</td>\n",
       "      <td>NaN</td>\n",
       "      <td>3.535714</td>\n",
       "    </tr>\n",
       "    <tr>\n",
       "      <th>11</th>\n",
       "      <td>59.904762</td>\n",
       "      <td>0.000000</td>\n",
       "      <td>15.333333</td>\n",
       "      <td>NaN</td>\n",
       "      <td>0.571429</td>\n",
       "    </tr>\n",
       "    <tr>\n",
       "      <th>12</th>\n",
       "      <td>32.600000</td>\n",
       "      <td>0.000000</td>\n",
       "      <td>8.400000</td>\n",
       "      <td>NaN</td>\n",
       "      <td>2.200000</td>\n",
       "    </tr>\n",
       "  </tbody>\n",
       "</table>\n",
       "</div>"
      ],
      "text/plain": [
       "                         New Cases: Confirmed  New Cases: Probables  \\\n",
       "Country      Year Month                                               \n",
       "Guinea       2014 8                 12.400000              1.600000   \n",
       "                  9                 13.000000              1.187500   \n",
       "                  10                 6.000000              0.000000   \n",
       "Liberia      2014 6                  2.142857              1.142857   \n",
       "                  7                  1.818182              3.727273   \n",
       "                  8                  5.444444             19.777778   \n",
       "                  9                  6.166667             29.333333   \n",
       "                  10                 1.360000             17.760000   \n",
       "                  11                 2.600000              7.000000   \n",
       "                  12              1928.333333           1208.000000   \n",
       "Sierra Leone 2014 8                 18.550000              1.150000   \n",
       "                  9                 34.413793              0.000000   \n",
       "                  10                56.714286              0.857143   \n",
       "                  11                59.904762              0.000000   \n",
       "                  12                32.600000              0.000000   \n",
       "\n",
       "                         New Cases: Suspects  New Cases: Total  \\\n",
       "Country      Year Month                                          \n",
       "Guinea       2014 8                11.800000            25.800   \n",
       "                  9                 5.437500            19.625   \n",
       "                  10               28.000000            34.000   \n",
       "Liberia      2014 6                 2.428571               NaN   \n",
       "                  7                 3.000000               NaN   \n",
       "                  8                12.000000               NaN   \n",
       "                  9                28.333333               NaN   \n",
       "                  10               26.440000               NaN   \n",
       "                  11               16.866667               NaN   \n",
       "                  12             2042.222222               NaN   \n",
       "Sierra Leone 2014 8                 5.450000               NaN   \n",
       "                  9                 6.275862               NaN   \n",
       "                  10               13.357143               NaN   \n",
       "                  11               15.333333               NaN   \n",
       "                  12                8.400000               NaN   \n",
       "\n",
       "                         New Deaths: Total  \n",
       "Country      Year Month                     \n",
       "Guinea       2014 8               3.400000  \n",
       "                  9               3.562500  \n",
       "                  10             15.000000  \n",
       "Liberia      2014 6               2.000000  \n",
       "                  7               4.272727  \n",
       "                  8              23.222222  \n",
       "                  9              36.041667  \n",
       "                  10             28.040000  \n",
       "                  11             13.466667  \n",
       "                  12              0.000000  \n",
       "Sierra Leone 2014 8               0.000000  \n",
       "                  9               0.275862  \n",
       "                  10              3.535714  \n",
       "                  11              0.571429  \n",
       "                  12              2.200000  "
      ]
     },
     "execution_count": 273,
     "metadata": {},
     "output_type": "execute_result"
    }
   ],
   "source": [
    "df_guinea = get_summary_dataframe(guinea, \"Guinea\", \"Totals\", \"Description\", \"Date\", label_guinea)\n",
    "df_liberia = get_summary_dataframe(liberia, \"Liberia\", \"National\", \"Variable\", \"Date\", label_liberia)\n",
    "df_sl = get_summary_dataframe(sl, \"Sierra Leone\", \"National\", \"variable\", \"date\", label_sl)\n",
    "pd.concat([df_guinea, df_liberia, df_sl])"
   ]
  },
  {
   "cell_type": "markdown",
   "metadata": {},
   "source": [
    "## Task 2. RNA Sequences\n",
    "\n",
    "In the `DATA_FOLDER/microbiome` subdirectory, there are 9 spreadsheets of microbiome data that was acquired from high-throughput RNA sequencing procedures, along with a 10<sup>th</sup> file that describes the content of each. \n",
    "\n",
    "Use pandas to import the first 9 spreadsheets into a single `DataFrame`.\n",
    "Then, add the metadata information from the 10<sup>th</sup> spreadsheet as columns in the combined `DataFrame`.\n",
    "Make sure that the final `DataFrame` has a unique index and all the `NaN` values have been replaced by the tag `unknown`."
   ]
  },
  {
   "cell_type": "code",
   "execution_count": null,
   "metadata": {},
   "outputs": [],
   "source": [
    "# Write your answer here"
   ]
  },
  {
   "cell_type": "markdown",
   "metadata": {},
   "source": [
    "## Task 3. Class War in Titanic\n",
    "\n",
    "Use pandas to import the data file `Data/titanic.xls`. It contains data on all the passengers that travelled on the Titanic."
   ]
  },
  {
   "cell_type": "code",
   "execution_count": null,
   "metadata": {},
   "outputs": [],
   "source": [
    "from IPython.core.display import HTML\n",
    "HTML(filename=DATA_FOLDER+'/titanic.html')"
   ]
  },
  {
   "cell_type": "markdown",
   "metadata": {},
   "source": [
    "For each of the following questions state clearly your assumptions and discuss your findings:\n",
    "1. Describe the *type* and the *value range* of each attribute. Indicate and transform the attributes that can be `Categorical`. \n",
    "2. Plot histograms for the *travel class*, *embarkation port*, *sex* and *age* attributes. For the latter one, use *discrete decade intervals*. \n",
    "3. Calculate the proportion of passengers by *cabin floor*. Present your results in a *pie chart*.\n",
    "4. For each *travel class*, calculate the proportion of the passengers that survived. Present your results in *pie charts*.\n",
    "5. Calculate the proportion of the passengers that survived by *travel class* and *sex*. Present your results in *a single histogram*.\n",
    "6. Create 2 equally populated *age categories* and calculate survival proportions by *age category*, *travel class* and *sex*. Present your results in a `DataFrame` with unique index."
   ]
  },
  {
   "cell_type": "code",
   "execution_count": null,
   "metadata": {},
   "outputs": [],
   "source": [
    "# Write your answer here"
   ]
  }
 ],
 "metadata": {
  "kernelspec": {
   "display_name": "Python [conda root]",
   "language": "python",
   "name": "conda-root-py"
  },
  "language_info": {
   "codemirror_mode": {
    "name": "ipython",
    "version": 3
   },
   "file_extension": ".py",
   "mimetype": "text/x-python",
   "name": "python",
   "nbconvert_exporter": "python",
   "pygments_lexer": "ipython3",
   "version": "3.5.2"
  }
 },
 "nbformat": 4,
 "nbformat_minor": 2
}
