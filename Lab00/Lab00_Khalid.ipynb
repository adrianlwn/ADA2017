{
 "cells": [
  {
   "cell_type": "code",
   "execution_count": 73,
   "metadata": {
    "collapsed": false
   },
   "outputs": [
    {
     "name": "stdout",
     "output_type": "stream",
     "text": [
      "Populating the interactive namespace from numpy and matplotlib\n"
     ]
    }
   ],
   "source": [
    "import pandas as pd\n",
    "import numpy as np\n",
    "%pylab inline"
   ]
  },
  {
   "cell_type": "code",
   "execution_count": 3,
   "metadata": {
    "collapsed": false
   },
   "outputs": [],
   "source": [
    "dataset = pd.read_csv('full_data.csv', error_bad_lines=False)"
   ]
  },
  {
   "cell_type": "code",
   "execution_count": 5,
   "metadata": {
    "collapsed": false
   },
   "outputs": [
    {
     "data": {
      "text/html": [
       "<div>\n",
       "<table border=\"1\" class=\"dataframe\">\n",
       "  <thead>\n",
       "    <tr style=\"text-align: right;\">\n",
       "      <th></th>\n",
       "      <th>Unnamed: 0</th>\n",
       "      <th>year</th>\n",
       "      <th>month</th>\n",
       "      <th>intent</th>\n",
       "      <th>police</th>\n",
       "      <th>sex</th>\n",
       "      <th>age</th>\n",
       "      <th>race</th>\n",
       "      <th>hispanic</th>\n",
       "      <th>place</th>\n",
       "      <th>education</th>\n",
       "    </tr>\n",
       "  </thead>\n",
       "  <tbody>\n",
       "    <tr>\n",
       "      <th>0</th>\n",
       "      <td>1</td>\n",
       "      <td>2012</td>\n",
       "      <td>1</td>\n",
       "      <td>Suicide</td>\n",
       "      <td>0</td>\n",
       "      <td>M</td>\n",
       "      <td>34.0</td>\n",
       "      <td>Asian/Pacific Islander</td>\n",
       "      <td>100</td>\n",
       "      <td>Home</td>\n",
       "      <td>BA+</td>\n",
       "    </tr>\n",
       "    <tr>\n",
       "      <th>1</th>\n",
       "      <td>2</td>\n",
       "      <td>2012</td>\n",
       "      <td>1</td>\n",
       "      <td>Suicide</td>\n",
       "      <td>0</td>\n",
       "      <td>F</td>\n",
       "      <td>21.0</td>\n",
       "      <td>White</td>\n",
       "      <td>100</td>\n",
       "      <td>Street</td>\n",
       "      <td>Some college</td>\n",
       "    </tr>\n",
       "    <tr>\n",
       "      <th>2</th>\n",
       "      <td>3</td>\n",
       "      <td>2012</td>\n",
       "      <td>1</td>\n",
       "      <td>Suicide</td>\n",
       "      <td>0</td>\n",
       "      <td>M</td>\n",
       "      <td>60.0</td>\n",
       "      <td>White</td>\n",
       "      <td>100</td>\n",
       "      <td>Other specified</td>\n",
       "      <td>BA+</td>\n",
       "    </tr>\n",
       "    <tr>\n",
       "      <th>3</th>\n",
       "      <td>4</td>\n",
       "      <td>2012</td>\n",
       "      <td>2</td>\n",
       "      <td>Suicide</td>\n",
       "      <td>0</td>\n",
       "      <td>M</td>\n",
       "      <td>64.0</td>\n",
       "      <td>White</td>\n",
       "      <td>100</td>\n",
       "      <td>Home</td>\n",
       "      <td>BA+</td>\n",
       "    </tr>\n",
       "    <tr>\n",
       "      <th>4</th>\n",
       "      <td>5</td>\n",
       "      <td>2012</td>\n",
       "      <td>2</td>\n",
       "      <td>Suicide</td>\n",
       "      <td>0</td>\n",
       "      <td>M</td>\n",
       "      <td>31.0</td>\n",
       "      <td>White</td>\n",
       "      <td>100</td>\n",
       "      <td>Other specified</td>\n",
       "      <td>HS/GED</td>\n",
       "    </tr>\n",
       "    <tr>\n",
       "      <th>5</th>\n",
       "      <td>6</td>\n",
       "      <td>2012</td>\n",
       "      <td>2</td>\n",
       "      <td>Suicide</td>\n",
       "      <td>0</td>\n",
       "      <td>M</td>\n",
       "      <td>17.0</td>\n",
       "      <td>Native American/Native Alaskan</td>\n",
       "      <td>100</td>\n",
       "      <td>Home</td>\n",
       "      <td>Less than HS</td>\n",
       "    </tr>\n",
       "    <tr>\n",
       "      <th>6</th>\n",
       "      <td>7</td>\n",
       "      <td>2012</td>\n",
       "      <td>2</td>\n",
       "      <td>Undetermined</td>\n",
       "      <td>0</td>\n",
       "      <td>M</td>\n",
       "      <td>48.0</td>\n",
       "      <td>White</td>\n",
       "      <td>100</td>\n",
       "      <td>Home</td>\n",
       "      <td>HS/GED</td>\n",
       "    </tr>\n",
       "    <tr>\n",
       "      <th>7</th>\n",
       "      <td>8</td>\n",
       "      <td>2012</td>\n",
       "      <td>3</td>\n",
       "      <td>Suicide</td>\n",
       "      <td>0</td>\n",
       "      <td>M</td>\n",
       "      <td>41.0</td>\n",
       "      <td>Native American/Native Alaskan</td>\n",
       "      <td>100</td>\n",
       "      <td>Home</td>\n",
       "      <td>HS/GED</td>\n",
       "    </tr>\n",
       "    <tr>\n",
       "      <th>8</th>\n",
       "      <td>9</td>\n",
       "      <td>2012</td>\n",
       "      <td>2</td>\n",
       "      <td>Accidental</td>\n",
       "      <td>0</td>\n",
       "      <td>M</td>\n",
       "      <td>50.0</td>\n",
       "      <td>White</td>\n",
       "      <td>100</td>\n",
       "      <td>Other specified</td>\n",
       "      <td>Some college</td>\n",
       "    </tr>\n",
       "    <tr>\n",
       "      <th>9</th>\n",
       "      <td>10</td>\n",
       "      <td>2012</td>\n",
       "      <td>2</td>\n",
       "      <td>Suicide</td>\n",
       "      <td>0</td>\n",
       "      <td>M</td>\n",
       "      <td>NaN</td>\n",
       "      <td>Black</td>\n",
       "      <td>998</td>\n",
       "      <td>Home</td>\n",
       "      <td>NaN</td>\n",
       "    </tr>\n",
       "  </tbody>\n",
       "</table>\n",
       "</div>"
      ],
      "text/plain": [
       "   Unnamed: 0  year  month        intent  police sex   age  \\\n",
       "0           1  2012      1       Suicide       0   M  34.0   \n",
       "1           2  2012      1       Suicide       0   F  21.0   \n",
       "2           3  2012      1       Suicide       0   M  60.0   \n",
       "3           4  2012      2       Suicide       0   M  64.0   \n",
       "4           5  2012      2       Suicide       0   M  31.0   \n",
       "5           6  2012      2       Suicide       0   M  17.0   \n",
       "6           7  2012      2  Undetermined       0   M  48.0   \n",
       "7           8  2012      3       Suicide       0   M  41.0   \n",
       "8           9  2012      2    Accidental       0   M  50.0   \n",
       "9          10  2012      2       Suicide       0   M   NaN   \n",
       "\n",
       "                             race  hispanic            place     education  \n",
       "0          Asian/Pacific Islander       100             Home           BA+  \n",
       "1                           White       100           Street  Some college  \n",
       "2                           White       100  Other specified           BA+  \n",
       "3                           White       100             Home           BA+  \n",
       "4                           White       100  Other specified        HS/GED  \n",
       "5  Native American/Native Alaskan       100             Home  Less than HS  \n",
       "6                           White       100             Home        HS/GED  \n",
       "7  Native American/Native Alaskan       100             Home        HS/GED  \n",
       "8                           White       100  Other specified  Some college  \n",
       "9                           Black       998             Home           NaN  "
      ]
     },
     "execution_count": 5,
     "metadata": {},
     "output_type": "execute_result"
    }
   ],
   "source": [
    "dataset.head(10)"
   ]
  },
  {
   "cell_type": "code",
   "execution_count": 25,
   "metadata": {
    "collapsed": false
   },
   "outputs": [
    {
     "data": {
      "text/plain": [
       "0.6267485465981468"
      ]
     },
     "execution_count": 25,
     "metadata": {},
     "output_type": "execute_result"
    }
   ],
   "source": [
    "# nearly two-thirds of gun deaths are suicides\n",
    "len(dataset[(dataset.intent=='Suicide')])/len(dataset)"
   ]
  },
  {
   "cell_type": "code",
   "execution_count": 32,
   "metadata": {
    "collapsed": false
   },
   "outputs": [
    {
     "data": {
      "text/plain": [
       "35176"
      ]
     },
     "execution_count": 32,
     "metadata": {},
     "output_type": "execute_result"
    }
   ],
   "source": [
    "# Shot\n",
    "len(dataset[(dataset.intent=='Homicide')])"
   ]
  },
  {
   "cell_type": "code",
   "execution_count": 44,
   "metadata": {
    "collapsed": false
   },
   "outputs": [
    {
     "data": {
      "text/plain": [
       "(array(['Suicide', 'Undetermined', 'Accidental', 'Homicide', nan], dtype=object),\n",
       " array([0, 1], dtype=int64),\n",
       " array(['Asian/Pacific Islander', 'White', 'Native American/Native Alaskan',\n",
       "        'Black', 'Hispanic'], dtype=object),\n",
       " array([100, 998, 281, 211, 261, 210, 222, 282, 260, 270, 231, 237, 200,\n",
       "        223, 226, 275, 250, 234, 280, 227, 224, 286, 233, 271, 220, 225,\n",
       "        235, 242, 212, 221, 239, 299, 232, 291, 217, 252, 209, 238, 218], dtype=int64),\n",
       " array(['Home', 'Street', 'Other specified', nan, 'Other unspecified',\n",
       "        'Trade/service area', 'Farm', 'Industrial/construction',\n",
       "        'School/instiution', 'Sports', 'Residential institution'], dtype=object),\n",
       " array(['BA+', 'Some college', 'HS/GED', 'Less than HS', nan], dtype=object))"
      ]
     },
     "execution_count": 44,
     "metadata": {},
     "output_type": "execute_result"
    }
   ],
   "source": [
    "dataset.intent.unique(), dataset.police.unique(), dataset.race.unique(), dataset.hispanic.unique(), dataset.place.unique(), dataset.education.unique()"
   ]
  },
  {
   "cell_type": "code",
   "execution_count": 57,
   "metadata": {
    "collapsed": false
   },
   "outputs": [
    {
     "name": "stdout",
     "output_type": "stream",
     "text": [
      "More than 86.0 % percent of suicide victims are male ...\n"
     ]
    }
   ],
   "source": [
    "# Suicide male\n",
    "p = len(dataset[(dataset.intent=='Suicide') & (dataset.sex=='M')])/len(dataset[(dataset.intent=='Suicide')])\n",
    "print('More than',np.floor(p*100),'% percent of suicide victims are male ...')"
   ]
  },
  {
   "cell_type": "code",
   "execution_count": 59,
   "metadata": {
    "collapsed": false
   },
   "outputs": [
    {
     "name": "stdout",
     "output_type": "stream",
     "text": [
      "… and more than half of all suicides are men age 45 or older.\n"
     ]
    }
   ],
   "source": [
    "p = len(dataset[(dataset.intent=='Suicide') & (dataset.sex=='M')])/len(dataset[(dataset.intent=='Suicide')])\n",
    "print('… and more than half of all suicides are men age 45 or older.')"
   ]
  },
  {
   "cell_type": "markdown",
   "metadata": {},
   "source": [
    "# Plot data"
   ]
  },
  {
   "cell_type": "code",
   "execution_count": 130,
   "metadata": {
    "collapsed": false
   },
   "outputs": [
    {
     "data": {
      "text/plain": [
       "100780"
      ]
     },
     "execution_count": 130,
     "metadata": {},
     "output_type": "execute_result"
    }
   ],
   "source": [
    "ages = dataset[(dataset.age >= 0) & (dataset.age < 130)].age\n",
    "len(ages)"
   ]
  },
  {
   "cell_type": "code",
   "execution_count": 105,
   "metadata": {
    "collapsed": false
   },
   "outputs": [
    {
     "data": {
      "text/plain": [
       "array([  34.,   21.,   60.,   64.,   31.,   17.,   48.,   41.,   50.,\n",
       "         nan,   30.,   43.,   27.,   55.,   53.,   51.,   65.,   52.,\n",
       "         47.,   19.,   22.,   56.,   38.,   25.,   26.,   23.,   87.,\n",
       "         28.,   39.,   59.,   61.,   12.,   40.,   57.,   20.,   62.,\n",
       "         71.,   44.,   29.,   24.,    9.,   77.,   18.,   36.,   49.,\n",
       "         13.,   33.,   90.,   63.,   46.,   32.,   84.,   68.,   89.,\n",
       "         58.,   78.,   66.,   81.,   54.,   45.,   37.,   35.,   42.,\n",
       "         67.,   69.,   72.,   82.,   75.,   73.,   15.,   83.,   74.,\n",
       "         86.,   16.,   88.,    3.,   80.,    5.,   79.,   91.,    4.,\n",
       "         76.,   14.,   95.,   96.,   70.,    7.,   85.,    0.,    1.,\n",
       "         93.,   92.,   97.,    2.,   94.,   11.,    8.,    6.,   99.,\n",
       "         10.,   98.,  102.,  107.,  100.,  101.])"
      ]
     },
     "execution_count": 105,
     "metadata": {},
     "output_type": "execute_result"
    }
   ],
   "source": [
    "dataset.age.unique()"
   ]
  },
  {
   "cell_type": "code",
   "execution_count": 119,
   "metadata": {
    "collapsed": false
   },
   "outputs": [
    {
     "data": {
      "text/plain": [
       "[<matplotlib.lines.Line2D at 0x2441bf14780>]"
      ]
     },
     "execution_count": 119,
     "metadata": {},
     "output_type": "execute_result"
    },
    {
     "data": {
      "image/png": "[encoded data removed]",
      "text/plain": [
       "<matplotlib.figure.Figure at 0x2441be2aef0>"
      ]
     },
     "metadata": {},
     "output_type": "display_data"
    }
   ],
   "source": [
    "import collections\n",
    "count = collections.Counter(ages)\n",
    "ages_count = dataset.age.value_counts().sort_index()\n",
    "plot(ages_count)"
   ]
  },
  {
   "cell_type": "code",
   "execution_count": 137,
   "metadata": {
    "collapsed": false
   },
   "outputs": [
    {
     "data": {
      "image/png": "[encoded data removed]",
      "text/plain": [
       "<matplotlib.figure.Figure at 0x2441c1cbc88>"
      ]
     },
     "metadata": {},
     "output_type": "display_data"
    }
   ],
   "source": [
    "n, bins, patches = plt.hist(ages, 5, facecolor='green', alpha=0.75)\n"
   ]
  },
  {
   "cell_type": "code",
   "execution_count": 125,
   "metadata": {
    "collapsed": false
   },
   "outputs": [
    {
     "data": {
      "text/plain": [
       "50"
      ]
     },
     "execution_count": 125,
     "metadata": {},
     "output_type": "execute_result"
    }
   ],
   "source": [
    "ages_count[2]"
   ]
  },
  {
   "cell_type": "code",
   "execution_count": 99,
   "metadata": {
    "collapsed": false
   },
   "outputs": [
    {
     "data": {
      "text/plain": [
       "Counter({1.0: 38,\n",
       "         2.0: 50,\n",
       "         3.0: 66,\n",
       "         4.0: 54,\n",
       "         5.0: 43,\n",
       "         6.0: 50,\n",
       "         7.0: 43,\n",
       "         8.0: 32,\n",
       "         9.0: 47,\n",
       "         10.0: 53,\n",
       "         11.0: 61,\n",
       "         12.0: 117,\n",
       "         13.0: 229,\n",
       "         14.0: 364,\n",
       "         15.0: 561,\n",
       "         16.0: 864,\n",
       "         17.0: 1185,\n",
       "         18.0: 1753,\n",
       "         19.0: 2065,\n",
       "         20.0: 2219,\n",
       "         21.0: 2504,\n",
       "         22.0: 2712,\n",
       "         23.0: 2472,\n",
       "         24.0: 2437,\n",
       "         25.0: 2230,\n",
       "         26.0: 2231,\n",
       "         27.0: 2070,\n",
       "         28.0: 1986,\n",
       "         29.0: 1955,\n",
       "         30.0: 1869,\n",
       "         31.0: 1833,\n",
       "         32.0: 1824,\n",
       "         33.0: 1700,\n",
       "         34.0: 1699,\n",
       "         35.0: 1631,\n",
       "         36.0: 1512,\n",
       "         37.0: 1500,\n",
       "         38.0: 1491,\n",
       "         39.0: 1389,\n",
       "         40.0: 1414,\n",
       "         41.0: 1485,\n",
       "         42.0: 1492,\n",
       "         43.0: 1527,\n",
       "         44.0: 1449,\n",
       "         45.0: 1372,\n",
       "         46.0: 1437,\n",
       "         47.0: 1532,\n",
       "         48.0: 1621,\n",
       "         49.0: 1669,\n",
       "         50.0: 1674,\n",
       "         51.0: 1755,\n",
       "         52.0: 1715,\n",
       "         53.0: 1708,\n",
       "         54.0: 1684,\n",
       "         55.0: 1596,\n",
       "         56.0: 1625,\n",
       "         57.0: 1472,\n",
       "         58.0: 1510,\n",
       "         59.0: 1430,\n",
       "         60.0: 1361,\n",
       "         61.0: 1306,\n",
       "         62.0: 1099,\n",
       "         63.0: 1041,\n",
       "         64.0: 1126,\n",
       "         65.0: 1039,\n",
       "         66.0: 998,\n",
       "         67.0: 865,\n",
       "         68.0: 868,\n",
       "         69.0: 879,\n",
       "         70.0: 883,\n",
       "         71.0: 791,\n",
       "         72.0: 736,\n",
       "         73.0: 737,\n",
       "         74.0: 671,\n",
       "         75.0: 676,\n",
       "         76.0: 582,\n",
       "         77.0: 575,\n",
       "         78.0: 598,\n",
       "         79.0: 573,\n",
       "         80.0: 546,\n",
       "         81.0: 563,\n",
       "         82.0: 520,\n",
       "         83.0: 552,\n",
       "         84.0: 490,\n",
       "         85.0: 440,\n",
       "         86.0: 407,\n",
       "         87.0: 312,\n",
       "         88.0: 340,\n",
       "         89.0: 245,\n",
       "         90.0: 208,\n",
       "         91.0: 176,\n",
       "         92.0: 128,\n",
       "         93.0: 103,\n",
       "         94.0: 64,\n",
       "         95.0: 55,\n",
       "         96.0: 40,\n",
       "         97.0: 20,\n",
       "         98.0: 16,\n",
       "         99.0: 6,\n",
       "         100.0: 1,\n",
       "         101.0: 2,\n",
       "         102.0: 2,\n",
       "         107.0: 1})"
      ]
     },
     "execution_count": 99,
     "metadata": {},
     "output_type": "execute_result"
    }
   ],
   "source": [
    "count"
   ]
  },
  {
   "cell_type": "code",
   "execution_count": 102,
   "metadata": {
    "collapsed": false
   },
   "outputs": [
    {
     "data": {
      "text/plain": [
       "Counter({1.0: 38,\n",
       "         2.0: 50,\n",
       "         3.0: 66,\n",
       "         4.0: 54,\n",
       "         5.0: 43,\n",
       "         6.0: 50,\n",
       "         7.0: 43,\n",
       "         8.0: 32,\n",
       "         9.0: 47,\n",
       "         10.0: 53,\n",
       "         11.0: 61,\n",
       "         12.0: 117,\n",
       "         13.0: 229,\n",
       "         14.0: 364,\n",
       "         15.0: 561,\n",
       "         16.0: 864,\n",
       "         17.0: 1185,\n",
       "         18.0: 1753,\n",
       "         19.0: 2065,\n",
       "         20.0: 2219,\n",
       "         21.0: 2504,\n",
       "         22.0: 2712,\n",
       "         23.0: 2472,\n",
       "         24.0: 2437,\n",
       "         25.0: 2230,\n",
       "         26.0: 2231,\n",
       "         27.0: 2070,\n",
       "         28.0: 1986,\n",
       "         29.0: 1955,\n",
       "         30.0: 1869,\n",
       "         31.0: 1833,\n",
       "         32.0: 1824,\n",
       "         33.0: 1700,\n",
       "         34.0: 1699,\n",
       "         35.0: 1631,\n",
       "         36.0: 1512,\n",
       "         37.0: 1500,\n",
       "         38.0: 1491,\n",
       "         39.0: 1389,\n",
       "         40.0: 1414,\n",
       "         41.0: 1485,\n",
       "         42.0: 1492,\n",
       "         43.0: 1527,\n",
       "         44.0: 1449,\n",
       "         45.0: 1372,\n",
       "         46.0: 1437,\n",
       "         47.0: 1532,\n",
       "         48.0: 1621,\n",
       "         49.0: 1669,\n",
       "         50.0: 1674,\n",
       "         51.0: 1755,\n",
       "         52.0: 1715,\n",
       "         53.0: 1708,\n",
       "         54.0: 1684,\n",
       "         55.0: 1596,\n",
       "         56.0: 1625,\n",
       "         57.0: 1472,\n",
       "         58.0: 1510,\n",
       "         59.0: 1430,\n",
       "         60.0: 1361,\n",
       "         61.0: 1306,\n",
       "         62.0: 1099,\n",
       "         63.0: 1041,\n",
       "         64.0: 1126,\n",
       "         65.0: 1039,\n",
       "         66.0: 998,\n",
       "         67.0: 865,\n",
       "         68.0: 868,\n",
       "         69.0: 879,\n",
       "         70.0: 883,\n",
       "         71.0: 791,\n",
       "         72.0: 736,\n",
       "         73.0: 737,\n",
       "         74.0: 671,\n",
       "         75.0: 676,\n",
       "         76.0: 582,\n",
       "         77.0: 575,\n",
       "         78.0: 598,\n",
       "         79.0: 573,\n",
       "         80.0: 546,\n",
       "         81.0: 563,\n",
       "         82.0: 520,\n",
       "         83.0: 552,\n",
       "         84.0: 490,\n",
       "         85.0: 440,\n",
       "         86.0: 407,\n",
       "         87.0: 312,\n",
       "         88.0: 340,\n",
       "         89.0: 245,\n",
       "         90.0: 208,\n",
       "         91.0: 176,\n",
       "         92.0: 128,\n",
       "         93.0: 103,\n",
       "         94.0: 64,\n",
       "         95.0: 55,\n",
       "         96.0: 40,\n",
       "         97.0: 20,\n",
       "         98.0: 16,\n",
       "         99.0: 6,\n",
       "         100.0: 1,\n",
       "         101.0: 2,\n",
       "         102.0: 2,\n",
       "         107.0: 1})"
      ]
     },
     "execution_count": 102,
     "metadata": {},
     "output_type": "execute_result"
    }
   ],
   "source": [
    "count"
   ]
  }
 ],
 "metadata": {
  "anaconda-cloud": {},
  "kernelspec": {
   "display_name": "Python [conda root]",
   "language": "python",
   "name": "conda-root-py"
  },
  "language_info": {
   "codemirror_mode": {
    "name": "ipython",
    "version": 3
   },
   "file_extension": ".py",
   "mimetype": "text/x-python",
   "name": "python",
   "nbconvert_exporter": "python",
   "pygments_lexer": "ipython3",
   "version": "3.5.2"
  }
 },
 "nbformat": 4,
 "nbformat_minor": 1
}
